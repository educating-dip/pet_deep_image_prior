{
 "cells": [
  {
   "cell_type": "code",
   "execution_count": 1,
   "metadata": {},
   "outputs": [
    {
     "name": "stdout",
     "output_type": "stream",
     "text": [
      "\n",
      "File: /home/user/PET_DIP/SIRF-SuperBuild/build/INSTALL/python/sirf/STIR.py\n",
      "Line: 2774\n",
      "check_status found the following message sent from the engine:\n"
     ]
    },
    {
     "ename": "error",
     "evalue": "??? \"'ProjData::read_from_file: error opening file my_multfactors2d.hs' exception caught at line 67 of /home/user/PET_DIP/SIRF-SuperBuild/build/sources/SIRF/src/xSTIR/cSTIR/cstir.cpp; the reconstruction engine output may provide more information\"",
     "output_type": "error",
     "traceback": [
      "\u001b[0;31m---------------------------------------------------------------------------\u001b[0m",
      "\u001b[0;31merror\u001b[0m                                     Traceback (most recent call last)",
      "\u001b[0;32m<ipython-input-1-58027cff147f>\u001b[0m in \u001b[0;36m<module>\u001b[0;34m\u001b[0m\n\u001b[1;32m      6\u001b[0m \u001b[0mimage\u001b[0m \u001b[0;34m=\u001b[0m \u001b[0mtemplate\u001b[0m\u001b[0;34m.\u001b[0m\u001b[0mcreate_uniform_image\u001b[0m\u001b[0;34m(\u001b[0m\u001b[0;36m1.0\u001b[0m\u001b[0;34m,\u001b[0m\u001b[0;36m251\u001b[0m\u001b[0;34m)\u001b[0m\u001b[0;34m\u001b[0m\u001b[0;34m\u001b[0m\u001b[0m\n\u001b[1;32m      7\u001b[0m \u001b[0;34m\u001b[0m\u001b[0m\n\u001b[0;32m----> 8\u001b[0;31m \u001b[0mreconstruction\u001b[0m \u001b[0;34m=\u001b[0m \u001b[0mpet\u001b[0m\u001b[0;34m.\u001b[0m\u001b[0mOSMAPOSLReconstructor\u001b[0m\u001b[0;34m(\u001b[0m\u001b[0mfilename\u001b[0m\u001b[0;34m=\u001b[0m\u001b[0;34m'/home/user/PET_DIP/D690XCATnonTOF/1200MillionEvents/Source/convert_to_2D/OSEM2D.par'\u001b[0m\u001b[0;34m)\u001b[0m\u001b[0;34m\u001b[0m\u001b[0;34m\u001b[0m\u001b[0m\n\u001b[0m\u001b[1;32m      9\u001b[0m \u001b[0mreconstruction\u001b[0m\u001b[0;34m.\u001b[0m\u001b[0mset_up\u001b[0m\u001b[0;34m(\u001b[0m\u001b[0mimage\u001b[0m\u001b[0;34m)\u001b[0m\u001b[0;34m\u001b[0m\u001b[0;34m\u001b[0m\u001b[0m\n\u001b[1;32m     10\u001b[0m \u001b[0mreconstruction\u001b[0m\u001b[0;34m.\u001b[0m\u001b[0mset_current_estimate\u001b[0m\u001b[0;34m(\u001b[0m\u001b[0mimage\u001b[0m\u001b[0;34m)\u001b[0m\u001b[0;34m\u001b[0m\u001b[0;34m\u001b[0m\u001b[0m\n",
      "\u001b[0;32m~/PET_DIP/SIRF-SuperBuild/build/INSTALL/python/sirf/STIR.py\u001b[0m in \u001b[0;36m__init__\u001b[0;34m(self, filename)\u001b[0m\n\u001b[1;32m   2772\u001b[0m         self.handle = pystir.cSTIR_objectFromFile(\n\u001b[1;32m   2773\u001b[0m             'OSMAPOSLReconstruction', filename)\n\u001b[0;32m-> 2774\u001b[0;31m         \u001b[0mcheck_status\u001b[0m\u001b[0;34m(\u001b[0m\u001b[0mself\u001b[0m\u001b[0;34m.\u001b[0m\u001b[0mhandle\u001b[0m\u001b[0;34m)\u001b[0m\u001b[0;34m\u001b[0m\u001b[0;34m\u001b[0m\u001b[0m\n\u001b[0m\u001b[1;32m   2775\u001b[0m         \u001b[0mself\u001b[0m\u001b[0;34m.\u001b[0m\u001b[0mdisable_output\u001b[0m\u001b[0;34m(\u001b[0m\u001b[0;34m)\u001b[0m\u001b[0;34m\u001b[0m\u001b[0;34m\u001b[0m\u001b[0m\n\u001b[1;32m   2776\u001b[0m \u001b[0;34m\u001b[0m\u001b[0m\n",
      "\u001b[0;32m~/PET_DIP/SIRF-SuperBuild/build/INSTALL/python/sirf/Utilities.py\u001b[0m in \u001b[0;36mcheck_status\u001b[0;34m(handle, stack)\u001b[0m\n\u001b[1;32m    457\u001b[0m             \u001b[0mrepr\u001b[0m\u001b[0;34m(\u001b[0m\u001b[0mline\u001b[0m\u001b[0;34m)\u001b[0m \u001b[0;34m+\u001b[0m \u001b[0;34m' of '\u001b[0m \u001b[0;34m+\u001b[0m \u001b[0mfile\u001b[0m \u001b[0;34m+\u001b[0m \u001b[0;34m'; '\u001b[0m \u001b[0;34m+\u001b[0m\u001b[0;31m \u001b[0m\u001b[0;31m\\\u001b[0m\u001b[0;34m\u001b[0m\u001b[0;34m\u001b[0m\u001b[0m\n\u001b[1;32m    458\u001b[0m             \u001b[0;34m'the reconstruction engine output may provide more information'\u001b[0m\u001b[0;34m\u001b[0m\u001b[0;34m\u001b[0m\u001b[0m\n\u001b[0;32m--> 459\u001b[0;31m         \u001b[0;32mraise\u001b[0m \u001b[0merror\u001b[0m\u001b[0;34m(\u001b[0m\u001b[0merrorMsg\u001b[0m\u001b[0;34m)\u001b[0m\u001b[0;34m\u001b[0m\u001b[0;34m\u001b[0m\u001b[0m\n\u001b[0m\u001b[1;32m    460\u001b[0m \u001b[0;34m\u001b[0m\u001b[0m\n\u001b[1;32m    461\u001b[0m \u001b[0;34m\u001b[0m\u001b[0m\n",
      "\u001b[0;31merror\u001b[0m: ??? \"'ProjData::read_from_file: error opening file my_multfactors2d.hs' exception caught at line 67 of /home/user/PET_DIP/SIRF-SuperBuild/build/sources/SIRF/src/xSTIR/cSTIR/cstir.cpp; the reconstruction engine output may provide more information\""
     ]
    }
   ],
   "source": [
    "import sirf.STIR as pet\n",
    "from sirf.Utilities import show_2D_array\n",
    "\n",
    "template = pet.AcquisitionData(\"/home/user/PET_DIP/D690XCATnonTOF/1200MillionEvents/Source/convert_to_2D/template2D.hs\")\n",
    "\n",
    "image = template.create_uniform_image(1.0,251)\n",
    "\n",
    "reconstruction = pet.OSMAPOSLReconstructor(filename='/home/user/PET_DIP/D690XCATnonTOF/1200MillionEvents/Source/convert_to_2D/OSEM2D.par')\n",
    "reconstruction.set_up(image)\n",
    "reconstruction.set_current_estimate(image)\n",
    "reconstruction.process()\n",
    "\n",
    "image_array = reconstruction.get_output().as_array()\n",
    "show_2D_array('Reconstructed image', image_array[0,:,:])"
   ]
  },
  {
   "cell_type": "code",
   "execution_count": null,
   "metadata": {},
   "outputs": [],
   "source": [
    "import sirf.STIR as pet\n",
    "from sirf.Utilities import show_2D_array\n",
    "           \n",
    "prompts = pet.AcquisitionData(\"2D_dataset/my_Prompts2d.hs\")\n",
    "template = pet.AcquisitionData(\"2D_dataset/template2D.hs\")\n",
    "prompts.set_storage_scheme(\"memory\")\n",
    "additive_factors = pet.AcquisitionData(\"2D_dataset/my_total_additive_52d.hs\")\n",
    "multiplicative_factors = pet.AcquisitionData(\"2D_dataset/my_multfactors2d.hs\")\n",
    "\n",
    "normalisation_model = pet.AcquisitionSensitivityModel(multiplicative_factors)\n",
    "normalisation_model.set_up(template)\n",
    "sensitivity_vals = template.get_uniform_copy(1.0)\n",
    "normalisation_model.normalise(sensitivity_vals)\n",
    "sensitivity_factors = pet.AcquisitionSensitivityModel(sensitivity_vals)\n",
    "sensitivity_factors.set_up(template)\n",
    "\n",
    "image = template.create_uniform_image(1.0,251)\n",
    "\n",
    "acquisition_model = pet.AcquisitionModelUsingRayTracingMatrix()\n",
    "acquisition_model.set_num_tangential_LORs(10)\n",
    "acquisition_model.set_up(template,image)\n",
    "acquisition_model.set_additive_term(additive_factors)\n",
    "acquisition_model.set_acquisition_sensitivity(sensitivity_factors)\n",
    "\n",
    "objective_functional = pet.make_Poisson_loglikelihood(prompts, acq_model=acquisition_model)\n",
    "objective_functional.set_recompute_sensitivity(1)\n",
    "\n",
    "# create the reconstruction object\n",
    "sirf_reconstruction = pet.OSMAPOSLReconstructor()\n",
    "sirf_reconstruction.set_objective_function(objective_functional)\n",
    "num_subsets = 4\n",
    "num_subiterations = 100\n",
    "sirf_reconstruction.set_num_subsets(num_subsets)\n",
    "sirf_reconstruction.set_num_subiterations(num_subiterations)\n",
    "\n",
    "sirf_reconstruction.set_up(image)\n",
    "sirf_reconstruction.set_current_estimate(image)\n",
    "sirf_reconstruction.process()\n",
    "\n",
    "sirf_image_array = sirf_reconstruction.get_output().as_array()\n",
    "show_2D_array('Reconstructed image', sirf_image_array[0,:,:])"
   ]
  },
  {
   "cell_type": "code",
   "execution_count": null,
   "metadata": {},
   "outputs": [],
   "source": [
    "import numpy as np\n",
    "print(np.linalg.norm(sirf_image_array)/np.linalg.norm(image_array))\n",
    "print(prompts.as_array().ravel().sum())\n",
    "print(sensitivity_vals.as_array().ravel().sum())\n",
    "show_2D_array('prompts', prompts.as_array()[0,0,:,:])\n",
    "show_2D_array('sensitivity_vals', sensitivity_vals.as_array()[0,0,:,:])\n",
    "show_2D_array('multiplicative_factors', multiplicative_factors.as_array()[0,0,:,:])"
   ]
  },
  {
   "cell_type": "code",
   "execution_count": null,
   "metadata": {},
   "outputs": [],
   "source": [
    "\"\"\" from sirf.Utilities import show_2D_array, check_status\n",
    "import sirf.pyiutilities as pyiutil\n",
    "import sirf.pystir as pystir\n",
    "import sirf.STIR as pet\n",
    "import sirf.STIR_params as parms\n",
    "\n",
    "class RDPrior(pet.Prior):\n",
    "    \"\"\" r\n",
    "    TODO: change description\n",
    "    \n",
    "    Class for the prior that is a quadratic function of the image values.\n",
    "\n",
    "    Implements a quadratic Gibbs prior.\n",
    "\n",
    "    The gradient of the prior for the image lambda is computed at voxel r as\n",
    "    the sum of\n",
    "\n",
    "        delta(r, s) = w(s - r)*kappa(r)*kappa(s)*(lambda(r) - lambda(s))\n",
    "\n",
    "    over all voxels s where the weight w(s - r) is non-zero, kappa being an\n",
    "    image used to have spatially-varying penalties such as in Jeff Fessler's\n",
    "    papers.It should have identical dimensions to the image for which the\n",
    "    penalty is computed. If kappa is not set, this class will\n",
    "    effectively use 1 for all kappa's.\n",
    "\n",
    "    By default, a 3x3 or 3x3x3 neigbourhood is used where the weights are set\n",
    "    to x-voxel_size divided by the Euclidean distance between the points.\n",
    "    \"\"\"\n",
    "\n",
    "    def __init__(self):\n",
    "        \"\"\" init. \"\"\"\n",
    "        self.handle = None\n",
    "        self.name = 'PriorWithParabolic'\n",
    "        self.handle = pystir.cSTIR_newObject(self.name)\n",
    "        check_status(self.handle)\n",
    "\n",
    "    def __del__(self):\n",
    "        \"\"\"del.\"\"\"\n",
    "        if self.handle is not None:\n",
    "            pyiutil.deleteDataHandle(self.handle)\n",
    "\n",
    "    def get_epsilon(self):\n",
    "        \"\"\"Returns the penalty factor in front of the prior.\"\"\"\n",
    "        return parms.float_par(\n",
    "            self.handle, 'RelativeDifferencePrior', 'epsilon')\n",
    "\n",
    "    def set_epsilon(self, eps):\n",
    "        \"\"\"Sets epsilon.\"\"\"\n",
    "        parms.set_float_par(self.handle, 'RelativeDifferencePrior', 'epsilon', eps)\n",
    "    \n",
    "    def get_gamma(self):\n",
    "        \"\"\"Returns the penalty factor in front of the prior.\"\"\"\n",
    "        return parms.float_par(\n",
    "            self.handle, 'RelativeDifferencePrior', 'gamma')\n",
    "\n",
    "    def set_gamma(self, gamma):\n",
    "        \"\"\"Sets gamma.\"\"\"\n",
    "        parms.set_float_par(self.handle, 'RelativeDifferencePrior', 'gamma', gamma) \"\"\""
   ]
  }
 ],
 "metadata": {
  "interpreter": {
   "hash": "cee20aa2885cadc07e824ce5082d40bca942426616eda434cad5578791d33ff8"
  },
  "kernelspec": {
   "display_name": "Python 3.9.5 ('base')",
   "language": "python",
   "name": "python3"
  },
  "language_info": {
   "codemirror_mode": {
    "name": "ipython",
    "version": 3
   },
   "file_extension": ".py",
   "mimetype": "text/x-python",
   "name": "python",
   "nbconvert_exporter": "python",
   "pygments_lexer": "ipython3",
   "version": "3.6.13"
  },
  "orig_nbformat": 4
 },
 "nbformat": 4,
 "nbformat_minor": 2
}
